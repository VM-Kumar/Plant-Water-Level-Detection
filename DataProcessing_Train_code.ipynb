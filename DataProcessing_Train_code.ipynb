{
 "cells": [
  {
   "cell_type": "code",
   "execution_count": null,
   "metadata": {
    "colab": {
     "base_uri": "https://localhost:8080/",
     "height": 67
    },
    "id": "UvBrUELmjJw9",
    "outputId": "4482391e-b399-4ed7-8c21-e1fd43e0830a"
   },
   "outputs": [
    {
     "name": "stdout",
     "output_type": "stream",
     "text": [
      "Requirement already satisfied: split_folders in /usr/local/lib/python3.6/dist-packages (0.3.1)\n",
      "Requirement already satisfied: image_slicer in /usr/local/lib/python3.6/dist-packages (0.3.0)\n",
      "Requirement already satisfied: Pillow>=4.0.0 in /usr/local/lib/python3.6/dist-packages (from image_slicer) (7.0.0)\n"
     ]
    }
   ],
   "source": [
    "import glob\n",
    "import pandas as pd\n",
    "import cv2\n",
    "import os\n",
    "from shutil import copyfile\n",
    "import numpy as np\n",
    "\n",
    "# Libraries required for zooming\n",
    "from scipy.ndimage import rotate\n",
    "#from google.colab.patches import cv2_imshow\n",
    "import numpy as np\n",
    "from scipy.ndimage import zoom\n",
    "import matplotlib.pyplot as plt\n",
    "\n",
    "#!pip install split_folders\n",
    "import split_folders\n",
    "\n",
    "# Patchset to allow cv2.imshow\n",
    "from google.colab.patches import cv2_imshow\n",
    "\n",
    "#!pip install image_slicer\n",
    "import image_slicer"
   ]
  },
  {
   "cell_type": "code",
   "execution_count": null,
   "metadata": {
    "id": "VaKbR6dpjx64"
   },
   "outputs": [],
   "source": [
    "#choose path for image destination\n",
    "root_path=\"/content/drive/My Drive/........\"\n",
    "\n",
    "#choose path to obtain training images\n",
    "training_images_path = \"/content/drive/My Drive/...................\"\n",
    "\n",
    "#choose path to obtain csv file of annotations\n",
    "annotated_data = \"/content/drive/My Drive/..............\"\n",
    "\n",
    "annotated_data = pd.read_csv(annotated_data, header=0)"
   ]
  },
  {
   "cell_type": "code",
   "execution_count": null,
   "metadata": {
    "id": "wuhAJwSdpb4v"
   },
   "outputs": [],
   "source": [
    "def get_annotation(label_data, file):\n",
    "     for rec in label_data.iterrows():\n",
    "         if rec[1]['file_name'] == file:\n",
    "             return rec[1][\"annotation\"]"
   ]
  },
  {
   "cell_type": "code",
   "execution_count": null,
   "metadata": {
    "id": "D4SaIDlCpq02"
   },
   "outputs": [],
   "source": [
    "for image in os.listdir(training_images_path):\n",
    "  if image.endswith(\".jpg\"):\n",
    "    annotation = get_annotation(annotated_data, image)\n",
    "    new_path = os.path.join(root_path, \"classified_images\", str(annotation))\n",
    "    if not os.path.exists(new_path):\n",
    "      os.makedirs(new_path)\n",
    "    copyfile(os.path.join(training_images_path, image) , os.path.join(new_path, image))"
   ]
  },
  {
   "cell_type": "code",
   "execution_count": null,
   "metadata": {
    "colab": {
     "base_uri": "https://localhost:8080/",
     "height": 34
    },
    "id": "BnCYdPw2u542",
    "outputId": "9f8e631b-67d9-4795-d418-78a7ce52b40b"
   },
   "outputs": [
    {
     "name": "stdout",
     "output_type": "stream",
     "text": [
      "/content/drive/My Drive/Neural_ProjectC1/classified_images/0\n"
     ]
    }
   ],
   "source": []
  },
  {
   "cell_type": "code",
   "execution_count": null,
   "metadata": {
    "colab": {
     "base_uri": "https://localhost:8080/",
     "height": 101
    },
    "id": "2T_5ue4ntHE0",
    "outputId": "d8ad82c3-8fe3-4d6e-fffc-156de9e1ac14"
   },
   "outputs": [
    {
     "name": "stdout",
     "output_type": "stream",
     "text": [
      "Class 4 : 197\n",
      "Class 1 : 329\n",
      "Class 0 : 488\n",
      "Class 2 : 130\n",
      "Class 3 : 131\n"
     ]
    }
   ],
   "source": [
    "# Checking number of images per folder\n",
    "path= root_path + \"classified_images\"\n",
    "for folder in os.listdir(path):\n",
    "  print (\"Class\", folder, \":\", len(os.listdir(os.path.join(path, folder))))"
   ]
  },
  {
   "cell_type": "code",
   "execution_count": null,
   "metadata": {
    "id": "oA5kFQ9HDApC"
   },
   "outputs": [],
   "source": [
    "def clipped_zoom(img, zoom_factor, **kwargs):\n",
    "\n",
    "    h, w = img.shape[:2]\n",
    "\n",
    "    # For multichannel images we don't want to apply the zoom factor to the RGB\n",
    "    # dimension, so instead we create a tuple of zoom factors, one per array\n",
    "    # dimension, with 1's for any trailing dimensions after the width and height.\n",
    "    zoom_tuple = (zoom_factor,) * 2 + (1,) * (img.ndim - 2)\n",
    "\n",
    "    # Zooming out\n",
    "    if zoom_factor < 1:\n",
    "\n",
    "        # Bounding box of the zoomed-out image within the output array\n",
    "        zh = int(np.round(h * zoom_factor))\n",
    "        zw = int(np.round(w * zoom_factor))\n",
    "        top = (h - zh) // 2\n",
    "        left = (w - zw) // 2\n",
    "\n",
    "        # Zero-padding\n",
    "        out = np.zeros_like(img)\n",
    "        out[top:top+zh, left:left+zw] = zoom(img, zoom_tuple, **kwargs)\n",
    "\n",
    "    # Zooming in\n",
    "    elif zoom_factor > 1:\n",
    "\n",
    "        # Bounding box of the zoomed-in region within the input array\n",
    "        zh = int(np.round(h / zoom_factor))\n",
    "        zw = int(np.round(w / zoom_factor))\n",
    "        top = (h - zh) // 2\n",
    "        left = (w - zw) // 2\n",
    "\n",
    "        out = zoom(img[top:top+zh, left:left+zw], zoom_tuple, **kwargs)\n",
    "\n",
    "        # `out` might still be slightly larger than `img` due to rounding, so\n",
    "        # trim off any extra pixels at the edges\n",
    "        trim_top = ((out.shape[0] - h) // 2)\n",
    "        trim_left = ((out.shape[1] - w) // 2)\n",
    "        out = out[trim_top:trim_top+h, trim_left:trim_left+w]\n",
    "\n",
    "    # If zoom_factor == 1, just return the input array\n",
    "    else:\n",
    "        out = img\n",
    "    return out"
   ]
  },
  {
   "cell_type": "code",
   "execution_count": null,
   "metadata": {
    "id": "m2ikeqPLytWM"
   },
   "outputs": [],
   "source": [
    "def increase_contrast(image):\n",
    "    return cv2.convertScaleAbs(image, alpha = 1, beta = 50)\n",
    "    "
   ]
  },
  {
   "cell_type": "code",
   "execution_count": null,
   "metadata": {
    "id": "rZxGhkvIyxf-"
   },
   "outputs": [],
   "source": [
    "def decrease_brightness(image):\n",
    "    return cv2.convertScaleAbs(image, alpha = 0.7, beta = 1)"
   ]
  },
  {
   "cell_type": "code",
   "execution_count": null,
   "metadata": {
    "id": "-LY6P_gzyyY0"
   },
   "outputs": [],
   "source": [
    "def blur(image):\n",
    "    return cv2.blur(image,(3,3))"
   ]
  },
  {
   "cell_type": "code",
   "execution_count": null,
   "metadata": {
    "id": "pdPJ7Yvuy5Nr"
   },
   "outputs": [],
   "source": [
    "def rotate_zoom(image):\n",
    "    rot = rotate(image, 20, reshape=False)\n",
    "    return clipped_zoom(rot, 2)"
   ]
  },
  {
   "cell_type": "code",
   "execution_count": null,
   "metadata": {
    "id": "aX72fnYCDEH2"
   },
   "outputs": [],
   "source": [
    "def rotate_zoom2(image):\n",
    "    rot = rotate(image, 5, reshape=False)\n",
    "    return clipped_zoom(rot, 2)"
   ]
  },
  {
   "cell_type": "code",
   "execution_count": null,
   "metadata": {
    "id": "2UmOMk9CBFbt"
   },
   "outputs": [],
   "source": [
    "def sharpen(image):\n",
    "  kernel = np.array([[-1,-1,-1], [-1,9,-1], [-1,-1,-1]])\n",
    "  return cv2.filter2D(image, -1, kernel)"
   ]
  },
  {
   "cell_type": "code",
   "execution_count": null,
   "metadata": {
    "colab": {
     "base_uri": "https://localhost:8080/",
     "height": 34
    },
    "id": "mr0Fvlr9zEvM",
    "outputId": "6ad00617-4573-4255-ab4c-51043856e05a"
   },
   "outputs": [
    {
     "name": "stdout",
     "output_type": "stream",
     "text": [
      "mkdir: cannot create directory ‘/content/drive/My Drive/Neural_ProjectC1/augmented_images/train/4’: File exists\n"
     ]
    }
   ],
   "source": [
    "#root_path=\"/content/drive/My Drive/.......\"\n",
    "!mkdir root_path+\"augmented_images/train/0\"\n",
    "!mkdir root_path+\"augmented_images/train/1\"\n",
    "!mkdir root_path+\"augmented_images/train/2\"\n",
    "!mkdir root_path+\"augmented_images/train/3\"\n",
    "!mkdir root_path+\"augmented_images/train/4\""
   ]
  },
  {
   "cell_type": "code",
   "execution_count": null,
   "metadata": {
    "id": "hC0TcfXV4OXs"
   },
   "outputs": [],
   "source": [
    "#path for classified train images folder containing folders 0,1,2,3,4\n",
    "DATA_PATH=\"/content/drive/My Drive...............\"\n",
    "#path for destination of augmented train images\n",
    "AUG_PATH=\"/content/drive/My Drive................\""
   ]
  },
  {
   "cell_type": "code",
   "execution_count": null,
   "metadata": {
    "id": "JQzvfGjJ1_ZJ"
   },
   "outputs": [],
   "source": [
    "category = \"0\"\n",
    "i = 0\n",
    "for f in os.listdir(DATA_PATH +  category):    \n",
    "  if i % 8 == 0:\n",
    "    slice(DATA_PATH +  category + \"/\" + f, DATA_PATH + category)  \n",
    "  i = i + 1\n",
    "i = 0\n",
    "\n",
    "for f in os.listdir(DATA_PATH + category):  \n",
    "  \n",
    "  image = cv2.imread(DATA_PATH  + category + \"/\" + f)\n",
    "  image = cv2.resize(image, (224, 224))\n",
    "  f_name = f.split(\".\")[:-1][0]\n",
    "\n",
    "  cv2.imwrite(AUG_PATH + category + \"/\" + f_name + \".jpg\", image)\n",
    "\n",
    "  if i % 4 == 0:\n",
    "\n",
    "    cv2.imwrite(AUG_PATH + category + \"/\" + f_name + \"_a.jpg\", increase_contrast(image))\n",
    "    #cv2.imwrite(AUG_PATH + category + \"/\" + f_name + \"_c.jpg\", blur(image))       \n",
    "    #cv2.imwrite(AUG_PATH + category + \"/\" + f_name + \"_f.jpg\", sharpen(image))  \n",
    "\n",
    "  elif i % 4 == 1:\n",
    "       \n",
    "    cv2.imwrite(AUG_PATH + category + \"/\" + f_name + \"_c.jpg\", decrease_brightness(image))        \n",
    "    #cv2.imwrite(AUG_PATH + category + \"/\" + f_name + \"_f.jpg\", sharpen(image))  \n",
    "\n",
    "  elif i % 4 == 2:\n",
    "\n",
    "    #cv2.imwrite(AUG_PATH + category + \"/\" + f_name + \"_a.jpg\", increase_contrast(image))\n",
    "    #cv2.imwrite(AUG_PATH + category + \"/\" + f_name + \"_b.jpg\", decrease_brightness(image))        \n",
    "    cv2.imwrite(AUG_PATH + category + \"/\" + f_name + \"_f.jpg\", sharpen(image))  \n",
    "\n",
    "  elif i % 4 == 3:\n",
    "\n",
    "    #cv2.imwrite(AUG_PATH + category + \"/\" + f_name + \"_a.jpg\", #increase_contrast(image))        \n",
    "    #cv2.imwrite(AUG_PATH + category + \"/\" + f_name + \"_f.jpg\", #sharpen(image))  \n",
    "    cv2.imwrite(AUG_PATH + category + \"/\" + f_name + \"_e.jpg\", rotate_zoom2(image))        \n",
    "\n",
    "  i = i + 1\n"
   ]
  },
  {
   "cell_type": "code",
   "execution_count": null,
   "metadata": {
    "id": "nlatP3rGOjEv"
   },
   "outputs": [],
   "source": [
    "category = \"1\"\n",
    "\n",
    "for f in os.listdir(DATA_PATH +  category):    \n",
    "  slice(DATA_PATH +  category + \"/\" + f, DATA_PATH + category)  \n",
    "i = 0\n",
    "\n",
    "for f in os.listdir(DATA_PATH + category):  \n",
    "  \n",
    "  image = cv2.imread(DATA_PATH  + category + \"/\" + f)\n",
    "  image = cv2.resize(image, (224, 224))\n",
    "  f_name = f.split(\".\")[:-1][0]\n",
    "\n",
    "  cv2.imwrite(AUG_PATH + category + \"/\" + f_name + \".jpg\", image)\n",
    "\n",
    "  if i % 4 == 0:\n",
    "\n",
    "    cv2.imwrite(AUG_PATH + category + \"/\" + f_name + \"_a.jpg\", increase_contrast(image))\n",
    "    cv2.imwrite(AUG_PATH + category + \"/\" + f_name + \"_c.jpg\", blur(image))       \n",
    "\n",
    "  elif i % 4 == 1:\n",
    "       \n",
    "    cv2.imwrite(AUG_PATH + category + \"/\" + f_name + \"_c.jpg\", blur(image))       \n",
    "    cv2.imwrite(AUG_PATH + category + \"/\" + f_name + \"_f.jpg\", sharpen(image))  \n",
    "\n",
    "  elif i % 4 == 2:\n",
    "\n",
    "    cv2.imwrite(AUG_PATH + category + \"/\" + f_name + \"_a.jpg\", increase_contrast(image))\n",
    "    cv2.imwrite(AUG_PATH + category + \"/\" + f_name + \"_b.jpg\", decrease_brightness(image))        \n",
    "\n",
    "  elif i % 4 == 3:\n",
    "\n",
    "    cv2.imwrite(AUG_PATH + category + \"/\" + f_name + \"_a.jpg\", increase_contrast(image))        \n",
    "    cv2.imwrite(AUG_PATH + category + \"/\" + f_name + \"_f.jpg\", sharpen(image))  \n",
    "    \n",
    "\n",
    "  i = i + 1\n",
    "\n",
    " \n"
   ]
  },
  {
   "cell_type": "code",
   "execution_count": null,
   "metadata": {
    "id": "fAynyj61PFmh"
   },
   "outputs": [],
   "source": [
    "category = \"2\"\n",
    "for f in os.listdir(DATA_PATH +  category):    \n",
    "  slice(DATA_PATH +  category + \"/\" + f, DATA_PATH + category) \n",
    "\n",
    "for f in os.listdir(DATA_PATH + category):  \n",
    "\n",
    "  image = cv2.imread(DATA_PATH  + category + \"/\" + f)\n",
    "  image = cv2.resize(image, (224, 224))\n",
    "  f_name = f.split(\".\")[:-1][0]\n",
    "\n",
    "  cv2.imwrite(AUG_PATH + category + \"/\" + f_name + \".jpg\", image)\n",
    "  cv2.imwrite(AUG_PATH + category + \"/\" + f_name + \"_a.jpg\", increase_contrast(image))\n",
    "  cv2.imwrite(AUG_PATH + category + \"/\" + f_name + \"_b.jpg\", decrease_brightness(image))\n",
    "  cv2.imwrite(AUG_PATH + category + \"/\" + f_name + \"_c.jpg\", blur(image))   \n",
    "  cv2.imwrite(AUG_PATH + category + \"/\" + f_name + \"_e.jpg\", rotate_zoom2(image))    \n",
    "  cv2.imwrite(AUG_PATH + category + \"/\" + f_name + \"_f.jpg\", sharpen(image))        "
   ]
  },
  {
   "cell_type": "code",
   "execution_count": null,
   "metadata": {
    "id": "lG46eHGIP0Cr"
   },
   "outputs": [],
   "source": [
    "category = \"3\"\n",
    "for f in os.listdir(DATA_PATH +  category):    \n",
    "  slice(DATA_PATH +  category + \"/\" + f, DATA_PATH + category) \n",
    "\n",
    "for f in os.listdir(DATA_PATH + category):  \n",
    "\n",
    "  image = cv2.imread(DATA_PATH  + category + \"/\" + f)\n",
    "  image = cv2.resize(image, (224, 224))\n",
    "  f_name = f.split(\".\")[:-1][0]\n",
    "\n",
    "  cv2.imwrite(AUG_PATH + category + \"/\" + f_name + \".jpg\", image)\n",
    "  cv2.imwrite(AUG_PATH + category + \"/\" + f_name + \"_a.jpg\", increase_contrast(image))\n",
    "  cv2.imwrite(AUG_PATH + category + \"/\" + f_name + \"_b.jpg\", decrease_brightness(image))\n",
    "  cv2.imwrite(AUG_PATH + category + \"/\" + f_name + \"_c.jpg\", blur(image))   \n",
    "  cv2.imwrite(AUG_PATH + category + \"/\" + f_name + \"_e.jpg\", rotate_zoom2(image))    \n",
    "  cv2.imwrite(AUG_PATH + category + \"/\" + f_name + \"_f.jpg\", sharpen(image))        "
   ]
  },
  {
   "cell_type": "code",
   "execution_count": null,
   "metadata": {
    "id": "TL6TwYnlP9ot"
   },
   "outputs": [],
   "source": [
    "category = \"4\"\n",
    "for f in os.listdir(DATA_PATH +  category):    \n",
    "  slice(DATA_PATH +  category + \"/\" + f, DATA_PATH + category) \n",
    "\n",
    "i = 0\n",
    "\n",
    "for f in os.listdir(DATA_PATH + category):  \n",
    "  \n",
    "  image = cv2.imread(DATA_PATH  + category + \"/\" + f)\n",
    "  image = cv2.resize(image, (224, 224))\n",
    "  f_name = f.split(\".\")[:-1][0]\n",
    "\n",
    "  cv2.imwrite(AUG_PATH + category + \"/\" + f_name + \".jpg\", image)\n",
    "\n",
    "  if i % 4 == 0:\n",
    "\n",
    "    cv2.imwrite(AUG_PATH + category + \"/\" + f_name + \"_a.jpg\", increase_contrast(image))\n",
    "    cv2.imwrite(AUG_PATH + category + \"/\" + f_name + \"_b.jpg\", decrease_brightness(image))\n",
    "    cv2.imwrite(AUG_PATH + category + \"/\" + f_name + \"_c.jpg\", blur(image))   \n",
    "    cv2.imwrite(AUG_PATH + category + \"/\" + f_name + \"_e.jpg\", rotate_zoom2(image))        \n",
    "\n",
    "  elif i % 4 == 1:\n",
    "\n",
    "    cv2.imwrite(AUG_PATH + category + \"/\" + f_name + \"_a.jpg\", increase_contrast(image))\n",
    "    cv2.imwrite(AUG_PATH + category + \"/\" + f_name + \"_b.jpg\", decrease_brightness(image))\n",
    "    cv2.imwrite(AUG_PATH + category + \"/\" + f_name + \"_c.jpg\", blur(image))       \n",
    "    cv2.imwrite(AUG_PATH + category + \"/\" + f_name + \"_f.jpg\", sharpen(image))  \n",
    "\n",
    "  elif i % 4 == 2:\n",
    "\n",
    "    cv2.imwrite(AUG_PATH + category + \"/\" + f_name + \"_a.jpg\", increase_contrast(image))\n",
    "    cv2.imwrite(AUG_PATH + category + \"/\" + f_name + \"_b.jpg\", decrease_brightness(image))    \n",
    "    cv2.imwrite(AUG_PATH + category + \"/\" + f_name + \"_e.jpg\", rotate_zoom2(image))    \n",
    "    cv2.imwrite(AUG_PATH + category + \"/\" + f_name + \"_f.jpg\", sharpen(image))  \n",
    "\n",
    "  elif i % 4 == 3:\n",
    "\n",
    "    cv2.imwrite(AUG_PATH + category + \"/\" + f_name + \"_a.jpg\", increase_contrast(image))    \n",
    "    cv2.imwrite(AUG_PATH + category + \"/\" + f_name + \"_c.jpg\", blur(image))   \n",
    "    cv2.imwrite(AUG_PATH + category + \"/\" + f_name + \"_e.jpg\", rotate_zoom2(image))    \n",
    "    cv2.imwrite(AUG_PATH + category + \"/\" + f_name + \"_f.jpg\", sharpen(image))  \n",
    "    \n",
    "\n",
    "  i = i + 1"
   ]
  },
  {
   "cell_type": "code",
   "execution_count": null,
   "metadata": {
    "colab": {
     "base_uri": "https://localhost:8080/",
     "height": 101
    },
    "id": "DWXXU3fuFbnt",
    "outputId": "eedb8861-970a-4e64-8dd5-e3b981812d77"
   },
   "outputs": [
    {
     "name": "stdout",
     "output_type": "stream",
     "text": [
      "Class 4 : 715\n",
      "Class 0 : 710\n",
      "Class 1 : 699\n",
      "Class 2 : 540\n",
      "Class 3 : 552\n"
     ]
    }
   ],
   "source": [
    "for folder in os.listdir(AUG_PATH):\n",
    "  print (\"Class\", folder, \":\", len(os.listdir(os.path.join(AUG_PATH, folder))))"
   ]
  }
 ],
 "metadata": {
  "colab": {
   "name": "DataProcessing_Train.ipynb",
   "provenance": []
  },
  "kernelspec": {
   "display_name": "Python 3",
   "language": "python",
   "name": "python3"
  },
  "language_info": {
   "codemirror_mode": {
    "name": "ipython",
    "version": 3
   },
   "file_extension": ".py",
   "mimetype": "text/x-python",
   "name": "python",
   "nbconvert_exporter": "python",
   "pygments_lexer": "ipython3",
   "version": "3.8.3"
  }
 },
 "nbformat": 4,
 "nbformat_minor": 1
}
