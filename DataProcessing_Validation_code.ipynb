{
 "cells": [
  {
   "cell_type": "code",
   "execution_count": null,
   "metadata": {
    "colab": {
     "base_uri": "https://localhost:8080/",
     "height": 168
    },
    "id": "UvBrUELmjJw9",
    "outputId": "1c4af2e7-9fa1-4322-98bf-cb402967e7a7"
   },
   "outputs": [
    {
     "name": "stdout",
     "output_type": "stream",
     "text": [
      "Collecting split_folders\n",
      "  Downloading https://files.pythonhosted.org/packages/20/67/29dda743e6d23ac1ea3d16704d8bbb48d65faf3f1b1eaf53153b3da56c56/split_folders-0.3.1-py3-none-any.whl\n",
      "Installing collected packages: split-folders\n",
      "Successfully installed split-folders-0.3.1\n",
      "Collecting image_slicer\n",
      "  Downloading https://files.pythonhosted.org/packages/d6/1e/6afd4b8c88f888fb7b909b02c102709c413d0dd1ed9047914002b87bc6b9/image_slicer-0.3.0-py3-none-any.whl\n",
      "Requirement already satisfied: Pillow>=4.0.0 in /usr/local/lib/python3.6/dist-packages (from image_slicer) (7.0.0)\n",
      "Installing collected packages: image-slicer\n",
      "Successfully installed image-slicer-0.3.0\n"
     ]
    }
   ],
   "source": [
    "import glob\n",
    "import pandas as pd\n",
    "import cv2\n",
    "import os\n",
    "from shutil import copyfile\n",
    "import numpy as np\n",
    "\n",
    "# Libraries required for zooming\n",
    "from scipy.ndimage import rotate\n",
    "#from google.colab.patches import cv2_imshow\n",
    "import numpy as np\n",
    "from scipy.ndimage import zoom\n",
    "import matplotlib.pyplot as plt\n",
    "\n",
    "#!pip install split_folders\n",
    "import split_folders\n",
    "\n",
    "# Patchset to allow cv2.imshow\n",
    "from google.colab.patches import cv2_imshow\n",
    "#!pip install image_slicer\n",
    "import image_slicer"
   ]
  },
  {
   "cell_type": "code",
   "execution_count": null,
   "metadata": {
    "id": "VaKbR6dpjx64"
   },
   "outputs": [],
   "source": [
    "#choose path for image destination-validation images\n",
    "root_path=\"/content/drive/My Drive/...........\"\n",
    "#choose path to obtain validation images\n",
    "training_images_path = \"/content/drive/My Drive..........\"\n",
    "#choose path to obtain csv file of annotations-validation images\n",
    "annotated_data = \"/content/drive/My Drive............\"\n",
    "annotated_data = pd.read_csv(annotated_data, header=0)"
   ]
  },
  {
   "cell_type": "code",
   "execution_count": null,
   "metadata": {
    "id": "wuhAJwSdpb4v"
   },
   "outputs": [],
   "source": [
    "def get_annotation(label_data, file):\n",
    "     for rec in label_data.iterrows():\n",
    "         if rec[1]['file_name'] == file:\n",
    "             return rec[1][\"annotation\"]"
   ]
  },
  {
   "cell_type": "code",
   "execution_count": null,
   "metadata": {
    "colab": {
     "base_uri": "https://localhost:8080/",
     "height": 370
    },
    "id": "D4SaIDlCpq02",
    "outputId": "14249b22-cd05-452c-97eb-d5a823f4705e"
   },
   "outputs": [
    {
     "ename": "KeyboardInterrupt",
     "evalue": "ignored",
     "output_type": "error",
     "traceback": [
      "\u001b[0;31m---------------------------------------------------------------------------\u001b[0m",
      "\u001b[0;31mKeyboardInterrupt\u001b[0m                         Traceback (most recent call last)",
      "\u001b[0;32m<ipython-input-5-05c3c287ea5a>\u001b[0m in \u001b[0;36m<module>\u001b[0;34m()\u001b[0m\n\u001b[1;32m      1\u001b[0m \u001b[0;32mfor\u001b[0m \u001b[0mimage\u001b[0m \u001b[0;32min\u001b[0m \u001b[0mos\u001b[0m\u001b[0;34m.\u001b[0m\u001b[0mlistdir\u001b[0m\u001b[0;34m(\u001b[0m\u001b[0mtraining_images_path\u001b[0m\u001b[0;34m)\u001b[0m\u001b[0;34m:\u001b[0m\u001b[0;34m\u001b[0m\u001b[0;34m\u001b[0m\u001b[0m\n\u001b[1;32m      2\u001b[0m   \u001b[0;32mif\u001b[0m \u001b[0mimage\u001b[0m\u001b[0;34m.\u001b[0m\u001b[0mendswith\u001b[0m\u001b[0;34m(\u001b[0m\u001b[0;34m\".jpg\"\u001b[0m\u001b[0;34m)\u001b[0m\u001b[0;34m:\u001b[0m\u001b[0;34m\u001b[0m\u001b[0;34m\u001b[0m\u001b[0m\n\u001b[0;32m----> 3\u001b[0;31m     \u001b[0mannotation\u001b[0m \u001b[0;34m=\u001b[0m \u001b[0mget_annotation\u001b[0m\u001b[0;34m(\u001b[0m\u001b[0mannotated_data\u001b[0m\u001b[0;34m,\u001b[0m \u001b[0mimage\u001b[0m\u001b[0;34m)\u001b[0m\u001b[0;34m\u001b[0m\u001b[0;34m\u001b[0m\u001b[0m\n\u001b[0m\u001b[1;32m      4\u001b[0m     \u001b[0mnew_path\u001b[0m \u001b[0;34m=\u001b[0m \u001b[0mos\u001b[0m\u001b[0;34m.\u001b[0m\u001b[0mpath\u001b[0m\u001b[0;34m.\u001b[0m\u001b[0mjoin\u001b[0m\u001b[0;34m(\u001b[0m\u001b[0mroot_path\u001b[0m\u001b[0;34m,\u001b[0m \u001b[0;34m\"classified_images\"\u001b[0m\u001b[0;34m,\u001b[0m \u001b[0mstr\u001b[0m\u001b[0;34m(\u001b[0m\u001b[0mannotation\u001b[0m\u001b[0;34m)\u001b[0m\u001b[0;34m)\u001b[0m\u001b[0;34m\u001b[0m\u001b[0;34m\u001b[0m\u001b[0m\n\u001b[1;32m      5\u001b[0m     \u001b[0;32mif\u001b[0m \u001b[0;32mnot\u001b[0m \u001b[0mos\u001b[0m\u001b[0;34m.\u001b[0m\u001b[0mpath\u001b[0m\u001b[0;34m.\u001b[0m\u001b[0mexists\u001b[0m\u001b[0;34m(\u001b[0m\u001b[0mnew_path\u001b[0m\u001b[0;34m)\u001b[0m\u001b[0;34m:\u001b[0m\u001b[0;34m\u001b[0m\u001b[0;34m\u001b[0m\u001b[0m\n",
      "\u001b[0;32m<ipython-input-4-a7635a8a9d3d>\u001b[0m in \u001b[0;36mget_annotation\u001b[0;34m(label_data, file)\u001b[0m\n\u001b[1;32m      1\u001b[0m \u001b[0;32mdef\u001b[0m \u001b[0mget_annotation\u001b[0m\u001b[0;34m(\u001b[0m\u001b[0mlabel_data\u001b[0m\u001b[0;34m,\u001b[0m \u001b[0mfile\u001b[0m\u001b[0;34m)\u001b[0m\u001b[0;34m:\u001b[0m\u001b[0;34m\u001b[0m\u001b[0;34m\u001b[0m\u001b[0m\n\u001b[1;32m      2\u001b[0m      \u001b[0;32mfor\u001b[0m \u001b[0mrec\u001b[0m \u001b[0;32min\u001b[0m \u001b[0mlabel_data\u001b[0m\u001b[0;34m.\u001b[0m\u001b[0miterrows\u001b[0m\u001b[0;34m(\u001b[0m\u001b[0;34m)\u001b[0m\u001b[0;34m:\u001b[0m\u001b[0;34m\u001b[0m\u001b[0;34m\u001b[0m\u001b[0m\n\u001b[0;32m----> 3\u001b[0;31m          \u001b[0;32mif\u001b[0m \u001b[0mrec\u001b[0m\u001b[0;34m[\u001b[0m\u001b[0;36m1\u001b[0m\u001b[0;34m]\u001b[0m\u001b[0;34m[\u001b[0m\u001b[0;34m'file_name'\u001b[0m\u001b[0;34m]\u001b[0m \u001b[0;34m==\u001b[0m \u001b[0mfile\u001b[0m\u001b[0;34m:\u001b[0m\u001b[0;34m\u001b[0m\u001b[0;34m\u001b[0m\u001b[0m\n\u001b[0m\u001b[1;32m      4\u001b[0m              \u001b[0;32mreturn\u001b[0m \u001b[0mrec\u001b[0m\u001b[0;34m[\u001b[0m\u001b[0;36m1\u001b[0m\u001b[0;34m]\u001b[0m\u001b[0;34m[\u001b[0m\u001b[0;34m\"annotation\"\u001b[0m\u001b[0;34m]\u001b[0m\u001b[0;34m\u001b[0m\u001b[0;34m\u001b[0m\u001b[0m\n",
      "\u001b[0;32m/usr/local/lib/python3.6/dist-packages/pandas/core/series.py\u001b[0m in \u001b[0;36m__getitem__\u001b[0;34m(self, key)\u001b[0m\n\u001b[1;32m    869\u001b[0m         \u001b[0mkey\u001b[0m \u001b[0;34m=\u001b[0m \u001b[0mcom\u001b[0m\u001b[0;34m.\u001b[0m\u001b[0mapply_if_callable\u001b[0m\u001b[0;34m(\u001b[0m\u001b[0mkey\u001b[0m\u001b[0;34m,\u001b[0m \u001b[0mself\u001b[0m\u001b[0;34m)\u001b[0m\u001b[0;34m\u001b[0m\u001b[0;34m\u001b[0m\u001b[0m\n\u001b[1;32m    870\u001b[0m         \u001b[0;32mtry\u001b[0m\u001b[0;34m:\u001b[0m\u001b[0;34m\u001b[0m\u001b[0;34m\u001b[0m\u001b[0m\n\u001b[0;32m--> 871\u001b[0;31m             \u001b[0mresult\u001b[0m \u001b[0;34m=\u001b[0m \u001b[0mself\u001b[0m\u001b[0;34m.\u001b[0m\u001b[0mindex\u001b[0m\u001b[0;34m.\u001b[0m\u001b[0mget_value\u001b[0m\u001b[0;34m(\u001b[0m\u001b[0mself\u001b[0m\u001b[0;34m,\u001b[0m \u001b[0mkey\u001b[0m\u001b[0;34m)\u001b[0m\u001b[0;34m\u001b[0m\u001b[0;34m\u001b[0m\u001b[0m\n\u001b[0m\u001b[1;32m    872\u001b[0m \u001b[0;34m\u001b[0m\u001b[0m\n\u001b[1;32m    873\u001b[0m             \u001b[0;32mif\u001b[0m \u001b[0;32mnot\u001b[0m \u001b[0mis_scalar\u001b[0m\u001b[0;34m(\u001b[0m\u001b[0mresult\u001b[0m\u001b[0;34m)\u001b[0m\u001b[0;34m:\u001b[0m\u001b[0;34m\u001b[0m\u001b[0;34m\u001b[0m\u001b[0m\n",
      "\u001b[0;32m/usr/local/lib/python3.6/dist-packages/pandas/core/indexes/base.py\u001b[0m in \u001b[0;36mget_value\u001b[0;34m(self, series, key)\u001b[0m\n\u001b[1;32m   4398\u001b[0m \u001b[0;34m\u001b[0m\u001b[0m\n\u001b[1;32m   4399\u001b[0m         \u001b[0ms\u001b[0m \u001b[0;34m=\u001b[0m \u001b[0mcom\u001b[0m\u001b[0;34m.\u001b[0m\u001b[0mvalues_from_object\u001b[0m\u001b[0;34m(\u001b[0m\u001b[0mseries\u001b[0m\u001b[0;34m)\u001b[0m\u001b[0;34m\u001b[0m\u001b[0;34m\u001b[0m\u001b[0m\n\u001b[0;32m-> 4400\u001b[0;31m         \u001b[0mk\u001b[0m \u001b[0;34m=\u001b[0m \u001b[0mcom\u001b[0m\u001b[0;34m.\u001b[0m\u001b[0mvalues_from_object\u001b[0m\u001b[0;34m(\u001b[0m\u001b[0mkey\u001b[0m\u001b[0;34m)\u001b[0m\u001b[0;34m\u001b[0m\u001b[0;34m\u001b[0m\u001b[0m\n\u001b[0m\u001b[1;32m   4401\u001b[0m \u001b[0;34m\u001b[0m\u001b[0m\n\u001b[1;32m   4402\u001b[0m         \u001b[0mk\u001b[0m \u001b[0;34m=\u001b[0m \u001b[0mself\u001b[0m\u001b[0;34m.\u001b[0m\u001b[0m_convert_scalar_indexer\u001b[0m\u001b[0;34m(\u001b[0m\u001b[0mk\u001b[0m\u001b[0;34m,\u001b[0m \u001b[0mkind\u001b[0m\u001b[0;34m=\u001b[0m\u001b[0;34m\"getitem\"\u001b[0m\u001b[0;34m)\u001b[0m\u001b[0;34m\u001b[0m\u001b[0;34m\u001b[0m\u001b[0m\n",
      "\u001b[0;31mKeyboardInterrupt\u001b[0m: "
     ]
    }
   ],
   "source": [
    "for image in os.listdir(training_images_path):\n",
    "  if image.endswith(\".jpg\"):\n",
    "    annotation = get_annotation(annotated_data, image)\n",
    "    new_path = os.path.join(root_path, \"classified_images\", str(annotation))\n",
    "    if not os.path.exists(new_path):\n",
    "      os.makedirs(new_path)\n",
    "    copyfile(os.path.join(training_images_path, image) , os.path.join(new_path, image))"
   ]
  },
  {
   "cell_type": "code",
   "execution_count": null,
   "metadata": {
    "colab": {
     "base_uri": "https://localhost:8080/",
     "height": 101
    },
    "id": "2T_5ue4ntHE0",
    "outputId": "699eb762-5aa5-4767-a89d-dda820056edd"
   },
   "outputs": [
    {
     "name": "stdout",
     "output_type": "stream",
     "text": [
      "Class 1 : 96\n",
      "Class 4 : 54\n",
      "Class 0 : 133\n",
      "Class 2 : 40\n",
      "Class 3 : 39\n"
     ]
    }
   ],
   "source": [
    "# Checking number of images per folder\n",
    "\n",
    "#validation data folder path\n",
    "path=\"/content/drive/My Drive/...........\"\n",
    "for folder in os.listdir(path):\n",
    "  print (\"Class\", folder, \":\", len(os.listdir(os.path.join(path, folder))))"
   ]
  },
  {
   "cell_type": "code",
   "execution_count": null,
   "metadata": {
    "id": "oA5kFQ9HDApC"
   },
   "outputs": [],
   "source": [
    "def clipped_zoom(img, zoom_factor, **kwargs):\n",
    "\n",
    "    h, w = img.shape[:2]\n",
    "\n",
    "    # For multichannel images we don't want to apply the zoom factor to the RGB\n",
    "    # dimension, so instead we create a tuple of zoom factors, one per array\n",
    "    # dimension, with 1's for any trailing dimensions after the width and height.\n",
    "    zoom_tuple = (zoom_factor,) * 2 + (1,) * (img.ndim - 2)\n",
    "\n",
    "    # Zooming out\n",
    "    if zoom_factor < 1:\n",
    "\n",
    "        # Bounding box of the zoomed-out image within the output array\n",
    "        zh = int(np.round(h * zoom_factor))\n",
    "        zw = int(np.round(w * zoom_factor))\n",
    "        top = (h - zh) // 2\n",
    "        left = (w - zw) // 2\n",
    "\n",
    "        # Zero-padding\n",
    "        out = np.zeros_like(img)\n",
    "        out[top:top+zh, left:left+zw] = zoom(img, zoom_tuple, **kwargs)\n",
    "\n",
    "    # Zooming in\n",
    "    elif zoom_factor > 1:\n",
    "\n",
    "        # Bounding box of the zoomed-in region within the input array\n",
    "        zh = int(np.round(h / zoom_factor))\n",
    "        zw = int(np.round(w / zoom_factor))\n",
    "        top = (h - zh) // 2\n",
    "        left = (w - zw) // 2\n",
    "\n",
    "        out = zoom(img[top:top+zh, left:left+zw], zoom_tuple, **kwargs)\n",
    "\n",
    "        # `out` might still be slightly larger than `img` due to rounding, so\n",
    "        # trim off any extra pixels at the edges\n",
    "        trim_top = ((out.shape[0] - h) // 2)\n",
    "        trim_left = ((out.shape[1] - w) // 2)\n",
    "        out = out[trim_top:trim_top+h, trim_left:trim_left+w]\n",
    "\n",
    "    # If zoom_factor == 1, just return the input array\n",
    "    else:\n",
    "        out = img\n",
    "    return out"
   ]
  },
  {
   "cell_type": "code",
   "execution_count": null,
   "metadata": {
    "id": "m2ikeqPLytWM"
   },
   "outputs": [],
   "source": [
    "def increase_contrast(image):\n",
    "    return cv2.convertScaleAbs(image, alpha = 1, beta = 50)\n",
    "    "
   ]
  },
  {
   "cell_type": "code",
   "execution_count": null,
   "metadata": {
    "id": "rZxGhkvIyxf-"
   },
   "outputs": [],
   "source": [
    "def decrease_brightness(image):\n",
    "    return cv2.convertScaleAbs(image, alpha = 0.7, beta = 1)"
   ]
  },
  {
   "cell_type": "code",
   "execution_count": null,
   "metadata": {
    "id": "-LY6P_gzyyY0"
   },
   "outputs": [],
   "source": [
    "def blur(image):\n",
    "    return cv2.blur(image,(3,3))"
   ]
  },
  {
   "cell_type": "code",
   "execution_count": null,
   "metadata": {
    "id": "pdPJ7Yvuy5Nr"
   },
   "outputs": [],
   "source": [
    "def rotate_zoom(image):\n",
    "    rot = rotate(image, 20, reshape=False)\n",
    "    return clipped_zoom(rot, 2)"
   ]
  },
  {
   "cell_type": "code",
   "execution_count": null,
   "metadata": {
    "id": "aX72fnYCDEH2"
   },
   "outputs": [],
   "source": [
    "def rotate_zoom2(image):\n",
    "    rot = rotate(image, 5, reshape=False)\n",
    "    return clipped_zoom(rot, 2)"
   ]
  },
  {
   "cell_type": "code",
   "execution_count": null,
   "metadata": {
    "id": "2UmOMk9CBFbt"
   },
   "outputs": [],
   "source": [
    "def sharpen(image):\n",
    "  kernel = np.array([[-1,-1,-1], [-1,9,-1], [-1,-1,-1]])\n",
    "  return cv2.filter2D(image, -1, kernel)"
   ]
  },
  {
   "cell_type": "code",
   "execution_count": null,
   "metadata": {
    "id": "mr0Fvlr9zEvM"
   },
   "outputs": [],
   "source": [
    "#root_path=\"/content/drive/My Drive/......\"\n",
    "!mkdir  root_path +\"augmented_images/validation/0\"\n",
    "!mkdir  root_path+\"augmented_images/validation/1\"\n",
    "!mkdir  root_path+\"augmented_images/validation/2\"\n",
    "!mkdir  root_path+\"augmented_images/validation/3\"\n",
    "!mkdir  root_path+\"augmented_images/validation/4\""
   ]
  },
  {
   "cell_type": "code",
   "execution_count": null,
   "metadata": {
    "id": "0wsVwjo61ReS"
   },
   "outputs": [],
   "source": [
    "#source path for validation images organized in folders according to categories0,1,2,3,4\n",
    "src_path=\"/content/drive/My Drive/.............\"\n",
    "#destination path for augmented validation images\n",
    "dst_path=\"/content/drive/My Drive/............\""
   ]
  },
  {
   "cell_type": "code",
   "execution_count": null,
   "metadata": {
    "id": "hC0TcfXV4OXs"
   },
   "outputs": [],
   "source": [
    "DATA_PATH=src_path\n",
    "AUG_PATH=dst_path"
   ]
  },
  {
   "cell_type": "code",
   "execution_count": null,
   "metadata": {
    "id": "JQzvfGjJ1_ZJ"
   },
   "outputs": [],
   "source": [
    "category = \"0\"\n",
    "i = 0\n",
    "for f in os.listdir(DATA_PATH +  category):    \n",
    "  if i % 8 == 0:\n",
    "    slice(DATA_PATH +  category + \"/\" + f, DATA_PATH + category)  \n",
    "  i = i + 1\n",
    "i = 0\n",
    "\n",
    "for f in os.listdir(DATA_PATH + category):  \n",
    "  \n",
    "  image = cv2.imread(DATA_PATH  + category + \"/\" + f)\n",
    "  image = cv2.resize(image, (224, 224))\n",
    "  f_name = f.split(\".\")[:-1][0]\n",
    "\n",
    "  cv2.imwrite(AUG_PATH + category + \"/\" + f_name + \".jpg\", image)\n",
    "\n",
    "  if i % 4 == 0:\n",
    "\n",
    "    cv2.imwrite(AUG_PATH + category + \"/\" + f_name + \"_a.jpg\", increase_contrast(image))\n",
    "    #cv2.imwrite(AUG_PATH + category + \"/\" + f_name + \"_c.jpg\", blur(image))       \n",
    "    #cv2.imwrite(AUG_PATH + category + \"/\" + f_name + \"_f.jpg\", sharpen(image))  \n",
    "\n",
    "  elif i % 4 == 1:\n",
    "       \n",
    "    cv2.imwrite(AUG_PATH + category + \"/\" + f_name + \"_c.jpg\", decrease_brightness(image))        \n",
    "    #cv2.imwrite(AUG_PATH + category + \"/\" + f_name + \"_f.jpg\", sharpen(image))  \n",
    "\n",
    "  elif i % 4 == 2:\n",
    "\n",
    "    #cv2.imwrite(AUG_PATH + category + \"/\" + f_name + \"_a.jpg\", increase_contrast(image))\n",
    "    #cv2.imwrite(AUG_PATH + category + \"/\" + f_name + \"_b.jpg\", decrease_brightness(image))        \n",
    "    cv2.imwrite(AUG_PATH + category + \"/\" + f_name + \"_f.jpg\", sharpen(image))  \n",
    "\n",
    "  elif i % 4 == 3:\n",
    "\n",
    "    #cv2.imwrite(AUG_PATH + category + \"/\" + f_name + \"_a.jpg\", #increase_contrast(image))        \n",
    "    #cv2.imwrite(AUG_PATH + category + \"/\" + f_name + \"_f.jpg\", #sharpen(image))  \n",
    "    cv2.imwrite(AUG_PATH + category + \"/\" + f_name + \"_e.jpg\", rotate_zoom2(image))        \n",
    "\n",
    "  i = i + 1\n"
   ]
  },
  {
   "cell_type": "code",
   "execution_count": null,
   "metadata": {
    "id": "nlatP3rGOjEv"
   },
   "outputs": [],
   "source": [
    "category = \"1\"\n",
    "\n",
    "for f in os.listdir(DATA_PATH +  category):    \n",
    "  slice(DATA_PATH +  category + \"/\" + f, DATA_PATH + category)  \n",
    "i = 0\n",
    "\n",
    "for f in os.listdir(DATA_PATH + category):  \n",
    "  \n",
    "  image = cv2.imread(DATA_PATH  + category + \"/\" + f)\n",
    "  image = cv2.resize(image, (224, 224))\n",
    "  f_name = f.split(\".\")[:-1][0]\n",
    "\n",
    "  cv2.imwrite(AUG_PATH + category + \"/\" + f_name + \".jpg\", image)\n",
    "\n",
    "  if i % 4 == 0:\n",
    "\n",
    "    cv2.imwrite(AUG_PATH + category + \"/\" + f_name + \"_a.jpg\", increase_contrast(image))\n",
    "    cv2.imwrite(AUG_PATH + category + \"/\" + f_name + \"_c.jpg\", blur(image))       \n",
    "\n",
    "  elif i % 4 == 1:\n",
    "       \n",
    "    cv2.imwrite(AUG_PATH + category + \"/\" + f_name + \"_c.jpg\", blur(image))       \n",
    "    cv2.imwrite(AUG_PATH + category + \"/\" + f_name + \"_f.jpg\", sharpen(image))  \n",
    "\n",
    "  elif i % 4 == 2:\n",
    "\n",
    "    cv2.imwrite(AUG_PATH + category + \"/\" + f_name + \"_a.jpg\", increase_contrast(image))\n",
    "    cv2.imwrite(AUG_PATH + category + \"/\" + f_name + \"_b.jpg\", decrease_brightness(image))        \n",
    "\n",
    "  elif i % 4 == 3:\n",
    "\n",
    "    cv2.imwrite(AUG_PATH + category + \"/\" + f_name + \"_a.jpg\", increase_contrast(image))        \n",
    "    cv2.imwrite(AUG_PATH + category + \"/\" + f_name + \"_f.jpg\", sharpen(image))  \n",
    "    \n",
    "\n",
    "  i = i + 1\n",
    "\n",
    " \n"
   ]
  },
  {
   "cell_type": "code",
   "execution_count": null,
   "metadata": {
    "id": "fAynyj61PFmh"
   },
   "outputs": [],
   "source": [
    "category = \"2\"\n",
    "for f in os.listdir(DATA_PATH +  category):    \n",
    "  slice(DATA_PATH +  category + \"/\" + f, DATA_PATH + category) \n",
    "\n",
    "for f in os.listdir(DATA_PATH + category):  \n",
    "\n",
    "  image = cv2.imread(DATA_PATH  + category + \"/\" + f)\n",
    "  image = cv2.resize(image, (224, 224))\n",
    "  f_name = f.split(\".\")[:-1][0]\n",
    "\n",
    "  cv2.imwrite(AUG_PATH + category + \"/\" + f_name + \".jpg\", image)\n",
    "  cv2.imwrite(AUG_PATH + category + \"/\" + f_name + \"_a.jpg\", increase_contrast(image))\n",
    "  cv2.imwrite(AUG_PATH + category + \"/\" + f_name + \"_b.jpg\", decrease_brightness(image))\n",
    "  cv2.imwrite(AUG_PATH + category + \"/\" + f_name + \"_c.jpg\", blur(image))   \n",
    "  cv2.imwrite(AUG_PATH + category + \"/\" + f_name + \"_e.jpg\", rotate_zoom2(image))    \n",
    "  cv2.imwrite(AUG_PATH + category + \"/\" + f_name + \"_f.jpg\", sharpen(image))        "
   ]
  },
  {
   "cell_type": "code",
   "execution_count": null,
   "metadata": {
    "id": "lG46eHGIP0Cr"
   },
   "outputs": [],
   "source": [
    "category = \"3\"\n",
    "for f in os.listdir(DATA_PATH +  category):    \n",
    "  slice(DATA_PATH +  category + \"/\" + f, DATA_PATH + category) \n",
    "\n",
    "for f in os.listdir(DATA_PATH + category):  \n",
    "\n",
    "  image = cv2.imread(DATA_PATH  + category + \"/\" + f)\n",
    "  image = cv2.resize(image, (224, 224))\n",
    "  f_name = f.split(\".\")[:-1][0]\n",
    "\n",
    "  cv2.imwrite(AUG_PATH + category + \"/\" + f_name + \".jpg\", image)\n",
    "  cv2.imwrite(AUG_PATH + category + \"/\" + f_name + \"_a.jpg\", increase_contrast(image))\n",
    "  cv2.imwrite(AUG_PATH + category + \"/\" + f_name + \"_b.jpg\", decrease_brightness(image))\n",
    "  cv2.imwrite(AUG_PATH + category + \"/\" + f_name + \"_c.jpg\", blur(image))   \n",
    "  cv2.imwrite(AUG_PATH + category + \"/\" + f_name + \"_e.jpg\", rotate_zoom2(image))    \n",
    "  cv2.imwrite(AUG_PATH + category + \"/\" + f_name + \"_f.jpg\", sharpen(image))        "
   ]
  },
  {
   "cell_type": "code",
   "execution_count": null,
   "metadata": {
    "id": "TL6TwYnlP9ot"
   },
   "outputs": [],
   "source": [
    "category = \"4\"\n",
    "for f in os.listdir(DATA_PATH +  category):    \n",
    "  slice(DATA_PATH +  category + \"/\" + f, DATA_PATH + category) \n",
    "\n",
    "i = 0\n",
    "\n",
    "for f in os.listdir(DATA_PATH + category):  \n",
    "  \n",
    "  image = cv2.imread(DATA_PATH  + category + \"/\" + f)\n",
    "  image = cv2.resize(image, (224, 224))\n",
    "  f_name = f.split(\".\")[:-1][0]\n",
    "\n",
    "  cv2.imwrite(AUG_PATH + category + \"/\" + f_name + \".jpg\", image)\n",
    "\n",
    "  if i % 4 == 0:\n",
    "\n",
    "    cv2.imwrite(AUG_PATH + category + \"/\" + f_name + \"_a.jpg\", increase_contrast(image))\n",
    "    cv2.imwrite(AUG_PATH + category + \"/\" + f_name + \"_b.jpg\", decrease_brightness(image))\n",
    "    cv2.imwrite(AUG_PATH + category + \"/\" + f_name + \"_c.jpg\", blur(image))   \n",
    "    cv2.imwrite(AUG_PATH + category + \"/\" + f_name + \"_e.jpg\", rotate_zoom2(image))        \n",
    "\n",
    "  elif i % 4 == 1:\n",
    "\n",
    "    cv2.imwrite(AUG_PATH + category + \"/\" + f_name + \"_a.jpg\", increase_contrast(image))\n",
    "    cv2.imwrite(AUG_PATH + category + \"/\" + f_name + \"_b.jpg\", decrease_brightness(image))\n",
    "    cv2.imwrite(AUG_PATH + category + \"/\" + f_name + \"_c.jpg\", blur(image))       \n",
    "    cv2.imwrite(AUG_PATH + category + \"/\" + f_name + \"_f.jpg\", sharpen(image))  \n",
    "\n",
    "  elif i % 4 == 2:\n",
    "\n",
    "    cv2.imwrite(AUG_PATH + category + \"/\" + f_name + \"_a.jpg\", increase_contrast(image))\n",
    "    cv2.imwrite(AUG_PATH + category + \"/\" + f_name + \"_b.jpg\", decrease_brightness(image))    \n",
    "    cv2.imwrite(AUG_PATH + category + \"/\" + f_name + \"_e.jpg\", rotate_zoom2(image))    \n",
    "    cv2.imwrite(AUG_PATH + category + \"/\" + f_name + \"_f.jpg\", sharpen(image))  \n",
    "\n",
    "  elif i % 4 == 3:\n",
    "\n",
    "    cv2.imwrite(AUG_PATH + category + \"/\" + f_name + \"_a.jpg\", increase_contrast(image))    \n",
    "    cv2.imwrite(AUG_PATH + category + \"/\" + f_name + \"_c.jpg\", blur(image))   \n",
    "    cv2.imwrite(AUG_PATH + category + \"/\" + f_name + \"_e.jpg\", rotate_zoom2(image))    \n",
    "    cv2.imwrite(AUG_PATH + category + \"/\" + f_name + \"_f.jpg\", sharpen(image))  \n",
    "    \n",
    "\n",
    "  i = i + 1"
   ]
  },
  {
   "cell_type": "code",
   "execution_count": null,
   "metadata": {
    "colab": {
     "base_uri": "https://localhost:8080/",
     "height": 101
    },
    "id": "DWXXU3fuFbnt",
    "outputId": "599d3e2f-dd9b-4bcc-fee9-b1f62246a68f"
   },
   "outputs": [
    {
     "name": "stdout",
     "output_type": "stream",
     "text": [
      "Class 0 : 266\n",
      "Class 1 : 288\n",
      "Class 2 : 240\n",
      "Class 3 : 234\n",
      "Class 4 : 270\n"
     ]
    }
   ],
   "source": [
    "for folder in os.listdir(AUG_PATH):\n",
    "  print (\"Class\", folder, \":\", len(os.listdir(os.path.join(AUG_PATH, folder))))"
   ]
  }
 ],
 "metadata": {
  "colab": {
   "name": "DataProcessing_Validation.ipynb",
   "provenance": []
  },
  "kernelspec": {
   "display_name": "Python 3",
   "language": "python",
   "name": "python3"
  },
  "language_info": {
   "codemirror_mode": {
    "name": "ipython",
    "version": 3
   },
   "file_extension": ".py",
   "mimetype": "text/x-python",
   "name": "python",
   "nbconvert_exporter": "python",
   "pygments_lexer": "ipython3",
   "version": "3.8.3"
  }
 },
 "nbformat": 4,
 "nbformat_minor": 1
}
