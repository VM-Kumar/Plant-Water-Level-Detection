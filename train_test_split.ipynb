{
 "cells": [
  {
   "cell_type": "code",
   "execution_count": null,
   "metadata": {
    "id": "zp7Q6rKJbu1O"
   },
   "outputs": [],
   "source": [
    "import os\n",
    "import random\n",
    "from shutil import copyfile\n",
    "\n",
    "def img_train_test_split(img_source_dir, train_size):\n",
    "    \"\"\"\n",
    "    Randomly splits images over a train and validation folder, while preserving the folder structure\n",
    "    \n",
    "    Parameters\n",
    "    ----------\n",
    "    img_source_dir : string\n",
    "        Path to the folder with the images to be split. Can be absolute or relative path   \n",
    "        \n",
    "    train_size : float\n",
    "        Proportion of the original images that need to be copied in the subdirectory in the train folder\n",
    "    \"\"\"    \n",
    "    if not (isinstance(img_source_dir, str)):\n",
    "        raise AttributeError('img_source_dir must be a string')\n",
    "        \n",
    "    #if not os.path.exists(img_source_dir):\n",
    "        #raise OSError('img_source_dir does not exist')\n",
    "        \n",
    "    if not (isinstance(train_size, float)):\n",
    "        raise AttributeError('train_size must be a float')\n",
    "    \n",
    "    # Set up empty folder structure if not exists\n",
    "    #path for all input data organized af folders\n",
    "    if not os.path.exists(\"/content/drive/My Drive/Neural_Project/data\"):\n",
    "        os.makedirs(\"/content/drive/My Drive/Neural_Project/data\")\n",
    "    else:\n",
    "        #path for folders containing train and validation images within main folder\n",
    "        if not os.path.exists(\"/content/drive/My Drive/Neural_Project/data/train\"):\n",
    "            os.makedirs(\"/content/drive/My Drive/Neural_Project/data/train\")\n",
    "        if not os.path.exists('/content/drive/My Drive/Neural_Project/data/validation'):\n",
    "            os.makedirs('/content/drive/My Drive/Neural_Project/data/validation')\n",
    "            \n",
    "     #Get the subdirectories in the main image folder\n",
    "    subdirs = [subdir for subdir in os.listdir(img_source_dir) if os.path.isdir(os.path.join(img_source_dir, subdir))]\n",
    "    print(\"Subdirect\",subdirs)\n",
    "    for subdir in subdirs:\n",
    "        subdir_fullpath = os.path.join(img_source_dir, subdir)\n",
    "        if len(os.listdir(subdir_fullpath)) == 0:\n",
    "            print(subdir_fullpath + ' is empty')\n",
    "            break\n",
    "\n",
    "        #path for training data\n",
    "        train_subdir = os.path.join('/content/drive/My Drive/Neural_Project/data/train', subdir)\n",
    "        #path for validation data\n",
    "        validation_subdir = os.path.join('/content/drive/My Drive/Neural_Project/data/validation', subdir)\n",
    "\n",
    "        # Create subdirectories in train and validation folders\n",
    "        if not os.path.exists(train_subdir):\n",
    "            os.makedirs(train_subdir)\n",
    "\n",
    "        if not os.path.exists(validation_subdir):\n",
    "            os.makedirs(validation_subdir)\n",
    "\n",
    "        train_counter = 0\n",
    "        validation_counter = 0\n",
    "\n",
    "        # Randomly assign an image to train or validation folder\n",
    "        for filename in os.listdir(subdir_fullpath):\n",
    "            if filename.endswith(\".jpg\") or filename.endswith(\".png\"): \n",
    "                fileparts = filename.split('.')\n",
    "\n",
    "                if random.uniform(0, 1) <= train_size:\n",
    "                    copyfile(os.path.join(subdir_fullpath, filename), os.path.join(train_subdir, str(train_counter) + '.' + fileparts[1]))\n",
    "                    train_counter += 1\n",
    "                else:\n",
    "                    copyfile(os.path.join(subdir_fullpath, filename), os.path.join(validation_subdir, str(validation_counter) + '.' + fileparts[1]))\n",
    "                    validation_counter += 1\n",
    "                    \n",
    "        print('Copied ' + str(train_counter) + ' images to /content/drive/My Drive/Neural_ProjectC1/data/train/' + subdir)\n",
    "        print('Copied ' + str(validation_counter) + ' images to /content/drive/My Drive/Neural_ProjectC1/data/validation/' + subdir)"
   ]
  },
  {
   "cell_type": "code",
   "execution_count": null,
   "metadata": {
    "colab": {
     "base_uri": "https://localhost:8080/",
     "height": 421
    },
    "id": "-WHOL2B1PL_o",
    "outputId": "a776ab6d-27b2-4f30-9b15-ac572034b7d4"
   },
   "outputs": [
    {
     "name": "stdout",
     "output_type": "stream",
     "text": [
      "Subdirect ['0', '3', '2', '4', '1']\n",
      "Copied 262 images to /content/drive/My Drive/Neural_ProjectC1/data/train/0\n",
      "Copied 132 images to /content/drive/My Drive/Neural_ProjectC1/data/validation/0\n",
      "Copied 71 images to /content/drive/My Drive/Neural_ProjectC1/data/train/3\n",
      "Copied 46 images to /content/drive/My Drive/Neural_ProjectC1/data/validation/3\n",
      "Copied 77 images to /content/drive/My Drive/Neural_ProjectC1/data/train/2\n",
      "Copied 32 images to /content/drive/My Drive/Neural_ProjectC1/data/validation/2\n"
     ]
    },
    {
     "ename": "KeyboardInterrupt",
     "evalue": "ignored",
     "output_type": "error",
     "traceback": [
      "\u001b[0;31m---------------------------------------------------------------------------\u001b[0m",
      "\u001b[0;31mKeyboardInterrupt\u001b[0m                         Traceback (most recent call last)",
      "\u001b[0;32m<ipython-input-3-99068d4ce1b1>\u001b[0m in \u001b[0;36m<module>\u001b[0;34m()\u001b[0m\n\u001b[0;32m----> 1\u001b[0;31m \u001b[0mimg_train_test_split\u001b[0m\u001b[0;34m(\u001b[0m\u001b[0;34m\"/content/drive/My Drive/Neural_ProjectC1/classified_images\"\u001b[0m\u001b[0;34m,\u001b[0m\u001b[0;36m0.7\u001b[0m\u001b[0;34m)\u001b[0m\u001b[0;34m\u001b[0m\u001b[0;34m\u001b[0m\u001b[0m\n\u001b[0m",
      "\u001b[0;32m<ipython-input-2-fc798660820f>\u001b[0m in \u001b[0;36mimg_train_test_split\u001b[0;34m(img_source_dir, train_size)\u001b[0m\n\u001b[1;32m     61\u001b[0m \u001b[0;34m\u001b[0m\u001b[0m\n\u001b[1;32m     62\u001b[0m                 \u001b[0;32mif\u001b[0m \u001b[0mrandom\u001b[0m\u001b[0;34m.\u001b[0m\u001b[0muniform\u001b[0m\u001b[0;34m(\u001b[0m\u001b[0;36m0\u001b[0m\u001b[0;34m,\u001b[0m \u001b[0;36m1\u001b[0m\u001b[0;34m)\u001b[0m \u001b[0;34m<=\u001b[0m \u001b[0mtrain_size\u001b[0m\u001b[0;34m:\u001b[0m\u001b[0;34m\u001b[0m\u001b[0;34m\u001b[0m\u001b[0m\n\u001b[0;32m---> 63\u001b[0;31m                     \u001b[0mcopyfile\u001b[0m\u001b[0;34m(\u001b[0m\u001b[0mos\u001b[0m\u001b[0;34m.\u001b[0m\u001b[0mpath\u001b[0m\u001b[0;34m.\u001b[0m\u001b[0mjoin\u001b[0m\u001b[0;34m(\u001b[0m\u001b[0msubdir_fullpath\u001b[0m\u001b[0;34m,\u001b[0m \u001b[0mfilename\u001b[0m\u001b[0;34m)\u001b[0m\u001b[0;34m,\u001b[0m \u001b[0mos\u001b[0m\u001b[0;34m.\u001b[0m\u001b[0mpath\u001b[0m\u001b[0;34m.\u001b[0m\u001b[0mjoin\u001b[0m\u001b[0;34m(\u001b[0m\u001b[0mtrain_subdir\u001b[0m\u001b[0;34m,\u001b[0m \u001b[0mstr\u001b[0m\u001b[0;34m(\u001b[0m\u001b[0mtrain_counter\u001b[0m\u001b[0;34m)\u001b[0m \u001b[0;34m+\u001b[0m \u001b[0;34m'.'\u001b[0m \u001b[0;34m+\u001b[0m \u001b[0mfileparts\u001b[0m\u001b[0;34m[\u001b[0m\u001b[0;36m1\u001b[0m\u001b[0;34m]\u001b[0m\u001b[0;34m)\u001b[0m\u001b[0;34m)\u001b[0m\u001b[0;34m\u001b[0m\u001b[0;34m\u001b[0m\u001b[0m\n\u001b[0m\u001b[1;32m     64\u001b[0m                     \u001b[0mtrain_counter\u001b[0m \u001b[0;34m+=\u001b[0m \u001b[0;36m1\u001b[0m\u001b[0;34m\u001b[0m\u001b[0;34m\u001b[0m\u001b[0m\n\u001b[1;32m     65\u001b[0m                 \u001b[0;32melse\u001b[0m\u001b[0;34m:\u001b[0m\u001b[0;34m\u001b[0m\u001b[0;34m\u001b[0m\u001b[0m\n",
      "\u001b[0;32m/usr/lib/python3.6/shutil.py\u001b[0m in \u001b[0;36mcopyfile\u001b[0;34m(src, dst, follow_symlinks)\u001b[0m\n\u001b[1;32m    120\u001b[0m         \u001b[0;32mwith\u001b[0m \u001b[0mopen\u001b[0m\u001b[0;34m(\u001b[0m\u001b[0msrc\u001b[0m\u001b[0;34m,\u001b[0m \u001b[0;34m'rb'\u001b[0m\u001b[0;34m)\u001b[0m \u001b[0;32mas\u001b[0m \u001b[0mfsrc\u001b[0m\u001b[0;34m:\u001b[0m\u001b[0;34m\u001b[0m\u001b[0;34m\u001b[0m\u001b[0m\n\u001b[1;32m    121\u001b[0m             \u001b[0;32mwith\u001b[0m \u001b[0mopen\u001b[0m\u001b[0;34m(\u001b[0m\u001b[0mdst\u001b[0m\u001b[0;34m,\u001b[0m \u001b[0;34m'wb'\u001b[0m\u001b[0;34m)\u001b[0m \u001b[0;32mas\u001b[0m \u001b[0mfdst\u001b[0m\u001b[0;34m:\u001b[0m\u001b[0;34m\u001b[0m\u001b[0;34m\u001b[0m\u001b[0m\n\u001b[0;32m--> 122\u001b[0;31m                 \u001b[0mcopyfileobj\u001b[0m\u001b[0;34m(\u001b[0m\u001b[0mfsrc\u001b[0m\u001b[0;34m,\u001b[0m \u001b[0mfdst\u001b[0m\u001b[0;34m)\u001b[0m\u001b[0;34m\u001b[0m\u001b[0;34m\u001b[0m\u001b[0m\n\u001b[0m\u001b[1;32m    123\u001b[0m     \u001b[0;32mreturn\u001b[0m \u001b[0mdst\u001b[0m\u001b[0;34m\u001b[0m\u001b[0;34m\u001b[0m\u001b[0m\n\u001b[1;32m    124\u001b[0m \u001b[0;34m\u001b[0m\u001b[0m\n",
      "\u001b[0;32m/usr/lib/python3.6/shutil.py\u001b[0m in \u001b[0;36mcopyfileobj\u001b[0;34m(fsrc, fdst, length)\u001b[0m\n\u001b[1;32m     77\u001b[0m     \u001b[0;34m\"\"\"copy data from file-like object fsrc to file-like object fdst\"\"\"\u001b[0m\u001b[0;34m\u001b[0m\u001b[0;34m\u001b[0m\u001b[0m\n\u001b[1;32m     78\u001b[0m     \u001b[0;32mwhile\u001b[0m \u001b[0;36m1\u001b[0m\u001b[0;34m:\u001b[0m\u001b[0;34m\u001b[0m\u001b[0;34m\u001b[0m\u001b[0m\n\u001b[0;32m---> 79\u001b[0;31m         \u001b[0mbuf\u001b[0m \u001b[0;34m=\u001b[0m \u001b[0mfsrc\u001b[0m\u001b[0;34m.\u001b[0m\u001b[0mread\u001b[0m\u001b[0;34m(\u001b[0m\u001b[0mlength\u001b[0m\u001b[0;34m)\u001b[0m\u001b[0;34m\u001b[0m\u001b[0;34m\u001b[0m\u001b[0m\n\u001b[0m\u001b[1;32m     80\u001b[0m         \u001b[0;32mif\u001b[0m \u001b[0;32mnot\u001b[0m \u001b[0mbuf\u001b[0m\u001b[0;34m:\u001b[0m\u001b[0;34m\u001b[0m\u001b[0;34m\u001b[0m\u001b[0m\n\u001b[1;32m     81\u001b[0m             \u001b[0;32mbreak\u001b[0m\u001b[0;34m\u001b[0m\u001b[0;34m\u001b[0m\u001b[0m\n",
      "\u001b[0;31mKeyboardInterrupt\u001b[0m: "
     ]
    }
   ],
   "source": [
    "#path to classified images\n",
    "img_train_test_split(\"/content/drive/My Drive/Neural_ProjectC1/classified_images\",0.7)"
   ]
  },
  {
   "cell_type": "code",
   "execution_count": null,
   "metadata": {
    "id": "SoC1T1SjRkvw"
   },
   "outputs": [],
   "source": [
    "from keras.preprocessing.image import ImageDataGenerator\n",
    "\n",
    "train_datagen = ImageDataGenerator(\n",
    "        validation_split=0.2)\n",
    "\n",
    "#training data\n",
    "train_generator = train_datagen.flow_from_directory(\n",
    "        '/content/drive/My Drive/Neural_Project/TrainData-C2',\n",
    "        subset='training')\n",
    "#validation data\n",
    "validation_generator = train_datagen.flow_from_directory(\n",
    "        '/content/drive/My Drive/Neural_ProjectC1/TrainData-C2', #same as in train generator\n",
    "        subset='validation')"
   ]
  }
 ],
 "metadata": {
  "colab": {
   "name": "train_test_split.ipynb",
   "provenance": []
  },
  "kernelspec": {
   "display_name": "Python 3",
   "language": "python",
   "name": "python3"
  },
  "language_info": {
   "codemirror_mode": {
    "name": "ipython",
    "version": 3
   },
   "file_extension": ".py",
   "mimetype": "text/x-python",
   "name": "python",
   "nbconvert_exporter": "python",
   "pygments_lexer": "ipython3",
   "version": "3.8.3"
  }
 },
 "nbformat": 4,
 "nbformat_minor": 1
}
